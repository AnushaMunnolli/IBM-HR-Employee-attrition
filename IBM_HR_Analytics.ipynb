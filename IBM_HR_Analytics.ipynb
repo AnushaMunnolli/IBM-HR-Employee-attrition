{
 "cells": [
  {
   "cell_type": "markdown",
   "metadata": {},
   "source": [
    "### IBM HR Analytics Employee Attrition & Performance\n"
   ]
  },
  {
   "cell_type": "markdown",
   "metadata": {},
   "source": [
    "***Need for HR Analytics:***\n"
   ]
  },
  {
   "cell_type": "markdown",
   "metadata": {},
   "source": [
    "*HR analytics is the systematic identification and quantification of the people drivers of business outcomes (Heuvel & Bondarouk, 2016).*\n",
    "\n",
    "Analytics is always an important topic and trend in every part of business and HR is also not far behind. \n",
    "Human Resources analytics provides an organization with insights for effectively managing employees so that business goals can be reached quickly and efficiently. By accurately predicting attrition risks of current employees, you can take real steps to keep your talent happy, engaged, and less susceptible to competitive overtures. \n",
    "\n",
    "\n",
    "<img src=\"https://d35kskn2b3gqvv.cloudfront.net/wp-content/uploads/2016/10/13.png\" />\n",
    "\n",
    "\n",
    "\n"
   ]
  },
  {
   "cell_type": "markdown",
   "metadata": {},
   "source": [
    "***Scope***\n",
    "\n",
    "Through this project we will uncover the factors that may lead to employee attrition and build a predctive machine learning model to identify employees that may leave the company. \n",
    "\n",
    "This is a fictional data set created by IBM data scientists and can be found on Kaggle __[here](https://www.kaggle.com/pavansubhasht/ibm-hr-analytics-attrition-dataset/home)__\n",
    "\n",
    "\n",
    "\n",
    "\n"
   ]
  },
  {
   "cell_type": "markdown",
   "metadata": {},
   "source": [
    "***Import the necessary Libraries***"
   ]
  },
  {
   "cell_type": "code",
   "execution_count": 1,
   "metadata": {},
   "outputs": [],
   "source": [
    "import numpy as np\n",
    "import pandas as pd\n",
    "import matplotlib.pyplot as plt\n",
    "import seaborn as sns\n",
    "%matplotlib inline\n",
    "\n",
    "import warnings\n",
    "warnings.filterwarnings('ignore')"
   ]
  },
  {
   "cell_type": "markdown",
   "metadata": {},
   "source": [
    "***Load the Data Set and let's have a peek at the data***"
   ]
  },
  {
   "cell_type": "code",
   "execution_count": 2,
   "metadata": {},
   "outputs": [
    {
     "data": {
      "text/html": [
       "<div>\n",
       "<style scoped>\n",
       "    .dataframe tbody tr th:only-of-type {\n",
       "        vertical-align: middle;\n",
       "    }\n",
       "\n",
       "    .dataframe tbody tr th {\n",
       "        vertical-align: top;\n",
       "    }\n",
       "\n",
       "    .dataframe thead th {\n",
       "        text-align: right;\n",
       "    }\n",
       "</style>\n",
       "<table border=\"1\" class=\"dataframe\">\n",
       "  <thead>\n",
       "    <tr style=\"text-align: right;\">\n",
       "      <th></th>\n",
       "      <th>Age</th>\n",
       "      <th>Attrition</th>\n",
       "      <th>BusinessTravel</th>\n",
       "      <th>DailyRate</th>\n",
       "      <th>Department</th>\n",
       "      <th>DistanceFromHome</th>\n",
       "      <th>Education</th>\n",
       "      <th>EducationField</th>\n",
       "      <th>EmployeeCount</th>\n",
       "      <th>EmployeeNumber</th>\n",
       "      <th>...</th>\n",
       "      <th>RelationshipSatisfaction</th>\n",
       "      <th>StandardHours</th>\n",
       "      <th>StockOptionLevel</th>\n",
       "      <th>TotalWorkingYears</th>\n",
       "      <th>TrainingTimesLastYear</th>\n",
       "      <th>WorkLifeBalance</th>\n",
       "      <th>YearsAtCompany</th>\n",
       "      <th>YearsInCurrentRole</th>\n",
       "      <th>YearsSinceLastPromotion</th>\n",
       "      <th>YearsWithCurrManager</th>\n",
       "    </tr>\n",
       "  </thead>\n",
       "  <tbody>\n",
       "    <tr>\n",
       "      <th>0</th>\n",
       "      <td>41</td>\n",
       "      <td>Yes</td>\n",
       "      <td>Travel_Rarely</td>\n",
       "      <td>1102</td>\n",
       "      <td>Sales</td>\n",
       "      <td>1</td>\n",
       "      <td>2</td>\n",
       "      <td>Life Sciences</td>\n",
       "      <td>1</td>\n",
       "      <td>1</td>\n",
       "      <td>...</td>\n",
       "      <td>1</td>\n",
       "      <td>80</td>\n",
       "      <td>0</td>\n",
       "      <td>8</td>\n",
       "      <td>0</td>\n",
       "      <td>1</td>\n",
       "      <td>6</td>\n",
       "      <td>4</td>\n",
       "      <td>0</td>\n",
       "      <td>5</td>\n",
       "    </tr>\n",
       "    <tr>\n",
       "      <th>1</th>\n",
       "      <td>49</td>\n",
       "      <td>No</td>\n",
       "      <td>Travel_Frequently</td>\n",
       "      <td>279</td>\n",
       "      <td>Research &amp; Development</td>\n",
       "      <td>8</td>\n",
       "      <td>1</td>\n",
       "      <td>Life Sciences</td>\n",
       "      <td>1</td>\n",
       "      <td>2</td>\n",
       "      <td>...</td>\n",
       "      <td>4</td>\n",
       "      <td>80</td>\n",
       "      <td>1</td>\n",
       "      <td>10</td>\n",
       "      <td>3</td>\n",
       "      <td>3</td>\n",
       "      <td>10</td>\n",
       "      <td>7</td>\n",
       "      <td>1</td>\n",
       "      <td>7</td>\n",
       "    </tr>\n",
       "    <tr>\n",
       "      <th>2</th>\n",
       "      <td>37</td>\n",
       "      <td>Yes</td>\n",
       "      <td>Travel_Rarely</td>\n",
       "      <td>1373</td>\n",
       "      <td>Research &amp; Development</td>\n",
       "      <td>2</td>\n",
       "      <td>2</td>\n",
       "      <td>Other</td>\n",
       "      <td>1</td>\n",
       "      <td>4</td>\n",
       "      <td>...</td>\n",
       "      <td>2</td>\n",
       "      <td>80</td>\n",
       "      <td>0</td>\n",
       "      <td>7</td>\n",
       "      <td>3</td>\n",
       "      <td>3</td>\n",
       "      <td>0</td>\n",
       "      <td>0</td>\n",
       "      <td>0</td>\n",
       "      <td>0</td>\n",
       "    </tr>\n",
       "    <tr>\n",
       "      <th>3</th>\n",
       "      <td>33</td>\n",
       "      <td>No</td>\n",
       "      <td>Travel_Frequently</td>\n",
       "      <td>1392</td>\n",
       "      <td>Research &amp; Development</td>\n",
       "      <td>3</td>\n",
       "      <td>4</td>\n",
       "      <td>Life Sciences</td>\n",
       "      <td>1</td>\n",
       "      <td>5</td>\n",
       "      <td>...</td>\n",
       "      <td>3</td>\n",
       "      <td>80</td>\n",
       "      <td>0</td>\n",
       "      <td>8</td>\n",
       "      <td>3</td>\n",
       "      <td>3</td>\n",
       "      <td>8</td>\n",
       "      <td>7</td>\n",
       "      <td>3</td>\n",
       "      <td>0</td>\n",
       "    </tr>\n",
       "    <tr>\n",
       "      <th>4</th>\n",
       "      <td>27</td>\n",
       "      <td>No</td>\n",
       "      <td>Travel_Rarely</td>\n",
       "      <td>591</td>\n",
       "      <td>Research &amp; Development</td>\n",
       "      <td>2</td>\n",
       "      <td>1</td>\n",
       "      <td>Medical</td>\n",
       "      <td>1</td>\n",
       "      <td>7</td>\n",
       "      <td>...</td>\n",
       "      <td>4</td>\n",
       "      <td>80</td>\n",
       "      <td>1</td>\n",
       "      <td>6</td>\n",
       "      <td>3</td>\n",
       "      <td>3</td>\n",
       "      <td>2</td>\n",
       "      <td>2</td>\n",
       "      <td>2</td>\n",
       "      <td>2</td>\n",
       "    </tr>\n",
       "  </tbody>\n",
       "</table>\n",
       "<p>5 rows × 35 columns</p>\n",
       "</div>"
      ],
      "text/plain": [
       "   Age Attrition     BusinessTravel  DailyRate              Department  \\\n",
       "0   41       Yes      Travel_Rarely       1102                   Sales   \n",
       "1   49        No  Travel_Frequently        279  Research & Development   \n",
       "2   37       Yes      Travel_Rarely       1373  Research & Development   \n",
       "3   33        No  Travel_Frequently       1392  Research & Development   \n",
       "4   27        No      Travel_Rarely        591  Research & Development   \n",
       "\n",
       "   DistanceFromHome  Education EducationField  EmployeeCount  EmployeeNumber  \\\n",
       "0                 1          2  Life Sciences              1               1   \n",
       "1                 8          1  Life Sciences              1               2   \n",
       "2                 2          2          Other              1               4   \n",
       "3                 3          4  Life Sciences              1               5   \n",
       "4                 2          1        Medical              1               7   \n",
       "\n",
       "           ...           RelationshipSatisfaction StandardHours  \\\n",
       "0          ...                                  1            80   \n",
       "1          ...                                  4            80   \n",
       "2          ...                                  2            80   \n",
       "3          ...                                  3            80   \n",
       "4          ...                                  4            80   \n",
       "\n",
       "   StockOptionLevel  TotalWorkingYears  TrainingTimesLastYear WorkLifeBalance  \\\n",
       "0                 0                  8                      0               1   \n",
       "1                 1                 10                      3               3   \n",
       "2                 0                  7                      3               3   \n",
       "3                 0                  8                      3               3   \n",
       "4                 1                  6                      3               3   \n",
       "\n",
       "   YearsAtCompany YearsInCurrentRole  YearsSinceLastPromotion  \\\n",
       "0               6                  4                        0   \n",
       "1              10                  7                        1   \n",
       "2               0                  0                        0   \n",
       "3               8                  7                        3   \n",
       "4               2                  2                        2   \n",
       "\n",
       "   YearsWithCurrManager  \n",
       "0                     5  \n",
       "1                     7  \n",
       "2                     0  \n",
       "3                     0  \n",
       "4                     2  \n",
       "\n",
       "[5 rows x 35 columns]"
      ]
     },
     "execution_count": 2,
     "metadata": {},
     "output_type": "execute_result"
    }
   ],
   "source": [
    "data = pd.read_csv('WA_Fn-UseC_-HR-Employee-Attrition.csv')\n",
    "\n",
    "data.head()\n",
    "\n",
    "#The data consists of levels for a few features. The levels for these features are as follows:\n",
    "\n",
    "#Education                1 'Below College' 2 'College' 3 'Bachelor' 4 'Master' 5 'Doctor'\n",
    "#EnvironmentSatisfaction  1 'Low' 2 'Medium' 3 'High' 4 'Very High'\n",
    "#JobInvolvement           1 'Low' 2 'Medium' 3 'High' 4 'Very High'\n",
    "#JobSatisfaction          1 'Low' 2 'Medium' 3 'High' 4 'Very High'\n",
    "#PerformanceRating        1 'Low' 2 'Good' 3 'Excellent' 4 'Outstanding'\n",
    "#RelationshipSatisfaction 1 'Low' 2 'Medium' 3 'High' 4 'Very High'\n",
    "#WorkLifeBalance          1 'Bad' 2 'Good' 3 'Better' 4 'Best'\n"
   ]
  },
  {
   "cell_type": "code",
   "execution_count": 3,
   "metadata": {},
   "outputs": [],
   "source": [
    "\n",
    "# By taking a glance at our dataset, we can observe that there are 34 features and 1 target variable: \"Attrition\". \n",
    "# We can start asking questions relating to employee attrition such as: \n",
    "# 1) Is distance from home a factor in employee attrition? \n",
    "# 2) Does Marital status play a role in employee attrition? \n",
    "# 3) Do Employees get frequent training to cope with the job? \n",
    "\n"
   ]
  },
  {
   "cell_type": "markdown",
   "metadata": {},
   "source": [
    "***Data Exploration*** \n",
    "\n",
    "It is a good practice to perform some data exploration to get a better understanding our data set. <br>\n",
    "\n",
    "Lets perform some data visualizations using the matplotlib and seaborn pakages"
   ]
  },
  {
   "cell_type": "code",
   "execution_count": 4,
   "metadata": {},
   "outputs": [
    {
     "name": "stdout",
     "output_type": "stream",
     "text": [
      "<class 'pandas.core.frame.DataFrame'>\n",
      "RangeIndex: 1470 entries, 0 to 1469\n",
      "Data columns (total 35 columns):\n",
      "Age                         1470 non-null int64\n",
      "Attrition                   1470 non-null object\n",
      "BusinessTravel              1470 non-null object\n",
      "DailyRate                   1470 non-null int64\n",
      "Department                  1470 non-null object\n",
      "DistanceFromHome            1470 non-null int64\n",
      "Education                   1470 non-null int64\n",
      "EducationField              1470 non-null object\n",
      "EmployeeCount               1470 non-null int64\n",
      "EmployeeNumber              1470 non-null int64\n",
      "EnvironmentSatisfaction     1470 non-null int64\n",
      "Gender                      1470 non-null object\n",
      "HourlyRate                  1470 non-null int64\n",
      "JobInvolvement              1470 non-null int64\n",
      "JobLevel                    1470 non-null int64\n",
      "JobRole                     1470 non-null object\n",
      "JobSatisfaction             1470 non-null int64\n",
      "MaritalStatus               1470 non-null object\n",
      "MonthlyIncome               1470 non-null int64\n",
      "MonthlyRate                 1470 non-null int64\n",
      "NumCompaniesWorked          1470 non-null int64\n",
      "Over18                      1470 non-null object\n",
      "OverTime                    1470 non-null object\n",
      "PercentSalaryHike           1470 non-null int64\n",
      "PerformanceRating           1470 non-null int64\n",
      "RelationshipSatisfaction    1470 non-null int64\n",
      "StandardHours               1470 non-null int64\n",
      "StockOptionLevel            1470 non-null int64\n",
      "TotalWorkingYears           1470 non-null int64\n",
      "TrainingTimesLastYear       1470 non-null int64\n",
      "WorkLifeBalance             1470 non-null int64\n",
      "YearsAtCompany              1470 non-null int64\n",
      "YearsInCurrentRole          1470 non-null int64\n",
      "YearsSinceLastPromotion     1470 non-null int64\n",
      "YearsWithCurrManager        1470 non-null int64\n",
      "dtypes: int64(26), object(9)\n",
      "memory usage: 402.0+ KB\n"
     ]
    }
   ],
   "source": [
    "# Are there any missing  values? \n",
    "\n",
    "data.info()\n"
   ]
  },
  {
   "cell_type": "markdown",
   "metadata": {},
   "source": [
    "We do not have any missing values. However, our data has a mix of numeric and categorical features. Therefore, we have to remember to convert our categorical features to numerics while training our predictive machine learning model later.  "
   ]
  },
  {
   "cell_type": "code",
   "execution_count": 5,
   "metadata": {},
   "outputs": [
    {
     "data": {
      "text/plain": [
       "<matplotlib.axes._subplots.AxesSubplot at 0x1f6bce2f668>"
      ]
     },
     "execution_count": 5,
     "metadata": {},
     "output_type": "execute_result"
    },
    {
     "data": {
      "image/png": "[encoded data removed]",
      "text/plain": [
       "<Figure size 1080x576 with 4 Axes>"
      ]
     },
     "metadata": {},
     "output_type": "display_data"
    }
   ],
   "source": [
    "# Lets what are some of the factors are affecting the employees to leave the organization. \n",
    "\n",
    "sns.set_style('darkgrid')\n",
    "\n",
    "f, ((ax1, ax2),(ax3,ax4)) = plt.subplots(2,2,figsize=(15,8))\n",
    "sns.countplot(data['Attrition'], hue=data['Gender'], palette='Set1',ax=ax1)\n",
    "sns.countplot(data['YearsAtCompany'], hue=data['Attrition'], palette='Set1', ax=ax2)\n",
    "sns.barplot(data['Education'], data['YearsAtCompany'], hue=data['Attrition'],palette='Set1', ax=ax3)\n",
    "sns.countplot(data['BusinessTravel'], hue=data['Attrition'], palette='Set1', ax=ax4)\n",
    "\n",
    "\n",
    "# Observations from the plots: \n",
    "\n",
    "# Plot 1: Our data set shows us that the number of male employees leaving the organization is higher that the female employees\n",
    "\n",
    "# Plot 2: The attrition rate is low for the employees spending more than 10 years at the company. \n",
    "\n",
    "# Plot 3: Employees with a doctorate degree tend to leave the company more than employees with lower degrees. \n",
    "\n",
    "# Plot 4: Employees who travel rarely are leaving the company more than employees who do not travel or travel frequently. \n"
   ]
  },
  {
   "cell_type": "markdown",
   "metadata": {},
   "source": [
    "***Some more exploratory analysis***"
   ]
  },
  {
   "cell_type": "code",
   "execution_count": 6,
   "metadata": {},
   "outputs": [
    {
     "data": {
      "text/plain": [
       "<matplotlib.axes._subplots.AxesSubplot at 0x1f6bd03f908>"
      ]
     },
     "execution_count": 6,
     "metadata": {},
     "output_type": "execute_result"
    },
    {
     "data": {
      "image/png": "[encoded data removed]",
      "text/plain": [
       "<Figure size 1080x576 with 4 Axes>"
      ]
     },
     "metadata": {},
     "output_type": "display_data"
    }
   ],
   "source": [
    "f, ((ax1, ax2),(ax3,ax4)) = plt.subplots(2,2,figsize=(15,8))\n",
    "sns.boxplot(data['JobLevel'], data['MonthlyIncome'], palette='coolwarm', ax=ax1)\n",
    "sns.boxplot(data['JobSatisfaction'], data['Attrition'], palette='coolwarm', ax=ax2)\n",
    "sns.boxplot(data['EducationField'], data['MonthlyIncome'], palette='coolwarm', ax=ax3)\n",
    "sns.boxplot(data['WorkLifeBalance'], data['DistanceFromHome'], palette='coolwarm', ax=ax4)\n",
    "\n",
    "\n",
    "# Observations from the plots: \n",
    "\n",
    "# Plot 1: As an employees job level increases his average monthly income also increases. \n",
    "\n",
    "# Plot 2: Employees with lower job satisfaction are leaving the company more. \n",
    "\n",
    "# Plot 3: The average monthly salary of employees in marketing is higher than other employees. \n",
    "\n",
    "# Plot 4: Employees staying closer to the work place have higher rating in work life balance. \n"
   ]
  },
  {
   "cell_type": "code",
   "execution_count": null,
   "metadata": {},
   "outputs": [],
   "source": []
  },
  {
   "cell_type": "markdown",
   "metadata": {},
   "source": [
    "***Predicting Employee Attrition***\n",
    "\n",
    "Our objective is to predict employee attrition. So, this is a classification problem. "
   ]
  },
  {
   "cell_type": "markdown",
   "metadata": {},
   "source": [
    "***Classification***"
   ]
  },
  {
   "cell_type": "markdown",
   "metadata": {},
   "source": [
    "Classification is the problem of identifying to which of a set of categories (sub-populations) a new observation belongs, on the basis of a training set of data containing observations (or instances) whose category membership is known. <br>\n",
    "\n",
    "Classification is "
   ]
  },
  {
   "cell_type": "markdown",
   "metadata": {},
   "source": [
    "As our data consists of numerical and categorical data we need to treat them diferently. \n",
    "Lets start with finding the correlation between our numerical features. "
   ]
  },
  {
   "cell_type": "code",
   "execution_count": 7,
   "metadata": {},
   "outputs": [],
   "source": [
    "numerical_data = data.select_dtypes(exclude='object')\n",
    "categorical_data = data.select_dtypes(include='object')"
   ]
  },
  {
   "cell_type": "code",
   "execution_count": 8,
   "metadata": {},
   "outputs": [
    {
     "data": {
      "text/plain": [
       "<matplotlib.axes._subplots.AxesSubplot at 0x1f6bcd88908>"
      ]
     },
     "execution_count": 8,
     "metadata": {},
     "output_type": "execute_result"
    },
    {
     "data": {
      "image/png": "[encoded data removed]",
      "text/plain": [
       "<Figure size 576x432 with 2 Axes>"
      ]
     },
     "metadata": {},
     "output_type": "display_data"
    }
   ],
   "source": [
    "plt.figure(figsize=(8,6))\n",
    "sns.heatmap(numerical_data.corr(), cmap='YlGnBu')"
   ]
  },
  {
   "cell_type": "markdown",
   "metadata": {},
   "source": [
    "From the above correlation plot we can observe that we have poorly correlated(values towards 0) and strongly correlated (values towards 1) features. \n",
    "Our model should be trained on as many poorly correlated features as possible to get a better prediction. We can remove the strongly correlated features from the data so that the model can train better. "
   ]
  },
  {
   "cell_type": "code",
   "execution_count": 9,
   "metadata": {},
   "outputs": [],
   "source": [
    "numerical_data = numerical_data.drop(['YearsAtCompany', 'YearsInCurrentRole',\n",
    "                           'YearsSinceLastPromotion', 'YearsWithCurrManager', 'PercentSalaryHike', 'PerformanceRating'], axis=1)"
   ]
  },
  {
   "cell_type": "markdown",
   "metadata": {},
   "source": [
    "Lets turn our attention to the categorical variables. As our machine learning model needs numerical data as an input, we need to convert our categorical features into numerical ones. "
   ]
  },
  {
   "cell_type": "code",
   "execution_count": 10,
   "metadata": {},
   "outputs": [],
   "source": [
    "# Attrition consists of 'Yes' and 'No'. Lets change that to 1 and 0. \n",
    "target_map = {'Yes':1, 'No':0}\n",
    "# Use the pandas apply method to numerically encode our attrition target variable\n",
    "categorical_data['Attrition'] = categorical_data[\"Attrition\"].apply(lambda x: target_map[x])\n"
   ]
  },
  {
   "cell_type": "code",
   "execution_count": 11,
   "metadata": {},
   "outputs": [],
   "source": [
    "# Now lets convert the rest of the categorical features using pandas get_dummies to not fall into the dummy variable trap. \n",
    "categorical_data = pd.get_dummies(categorical_data)"
   ]
  },
  {
   "cell_type": "code",
   "execution_count": 12,
   "metadata": {},
   "outputs": [],
   "source": [
    "# Now we combine our numerical and categorical data to create a final data frame to train our model upon. \n",
    "\n",
    "final_data = pd.concat([numerical_data, categorical_data], axis=1)"
   ]
  },
  {
   "cell_type": "code",
   "execution_count": 13,
   "metadata": {},
   "outputs": [
    {
     "data": {
      "text/html": [
       "<div>\n",
       "<style scoped>\n",
       "    .dataframe tbody tr th:only-of-type {\n",
       "        vertical-align: middle;\n",
       "    }\n",
       "\n",
       "    .dataframe tbody tr th {\n",
       "        vertical-align: top;\n",
       "    }\n",
       "\n",
       "    .dataframe thead th {\n",
       "        text-align: right;\n",
       "    }\n",
       "</style>\n",
       "<table border=\"1\" class=\"dataframe\">\n",
       "  <thead>\n",
       "    <tr style=\"text-align: right;\">\n",
       "      <th></th>\n",
       "      <th>Age</th>\n",
       "      <th>DailyRate</th>\n",
       "      <th>DistanceFromHome</th>\n",
       "      <th>Education</th>\n",
       "      <th>EmployeeCount</th>\n",
       "      <th>EmployeeNumber</th>\n",
       "      <th>EnvironmentSatisfaction</th>\n",
       "      <th>HourlyRate</th>\n",
       "      <th>JobInvolvement</th>\n",
       "      <th>JobLevel</th>\n",
       "      <th>...</th>\n",
       "      <th>JobRole_Research Director</th>\n",
       "      <th>JobRole_Research Scientist</th>\n",
       "      <th>JobRole_Sales Executive</th>\n",
       "      <th>JobRole_Sales Representative</th>\n",
       "      <th>MaritalStatus_Divorced</th>\n",
       "      <th>MaritalStatus_Married</th>\n",
       "      <th>MaritalStatus_Single</th>\n",
       "      <th>Over18_Y</th>\n",
       "      <th>OverTime_No</th>\n",
       "      <th>OverTime_Yes</th>\n",
       "    </tr>\n",
       "  </thead>\n",
       "  <tbody>\n",
       "    <tr>\n",
       "      <th>0</th>\n",
       "      <td>41</td>\n",
       "      <td>1102</td>\n",
       "      <td>1</td>\n",
       "      <td>2</td>\n",
       "      <td>1</td>\n",
       "      <td>1</td>\n",
       "      <td>2</td>\n",
       "      <td>94</td>\n",
       "      <td>3</td>\n",
       "      <td>2</td>\n",
       "      <td>...</td>\n",
       "      <td>0</td>\n",
       "      <td>0</td>\n",
       "      <td>1</td>\n",
       "      <td>0</td>\n",
       "      <td>0</td>\n",
       "      <td>0</td>\n",
       "      <td>1</td>\n",
       "      <td>1</td>\n",
       "      <td>0</td>\n",
       "      <td>1</td>\n",
       "    </tr>\n",
       "    <tr>\n",
       "      <th>1</th>\n",
       "      <td>49</td>\n",
       "      <td>279</td>\n",
       "      <td>8</td>\n",
       "      <td>1</td>\n",
       "      <td>1</td>\n",
       "      <td>2</td>\n",
       "      <td>3</td>\n",
       "      <td>61</td>\n",
       "      <td>2</td>\n",
       "      <td>2</td>\n",
       "      <td>...</td>\n",
       "      <td>0</td>\n",
       "      <td>1</td>\n",
       "      <td>0</td>\n",
       "      <td>0</td>\n",
       "      <td>0</td>\n",
       "      <td>1</td>\n",
       "      <td>0</td>\n",
       "      <td>1</td>\n",
       "      <td>1</td>\n",
       "      <td>0</td>\n",
       "    </tr>\n",
       "  </tbody>\n",
       "</table>\n",
       "<p>2 rows × 50 columns</p>\n",
       "</div>"
      ],
      "text/plain": [
       "   Age  DailyRate  DistanceFromHome  Education  EmployeeCount  EmployeeNumber  \\\n",
       "0   41       1102                 1          2              1               1   \n",
       "1   49        279                 8          1              1               2   \n",
       "\n",
       "   EnvironmentSatisfaction  HourlyRate  JobInvolvement  JobLevel  \\\n",
       "0                        2          94               3         2   \n",
       "1                        3          61               2         2   \n",
       "\n",
       "       ...       JobRole_Research Director  JobRole_Research Scientist  \\\n",
       "0      ...                               0                           0   \n",
       "1      ...                               0                           1   \n",
       "\n",
       "   JobRole_Sales Executive  JobRole_Sales Representative  \\\n",
       "0                        1                             0   \n",
       "1                        0                             0   \n",
       "\n",
       "   MaritalStatus_Divorced  MaritalStatus_Married  MaritalStatus_Single  \\\n",
       "0                       0                      0                     1   \n",
       "1                       0                      1                     0   \n",
       "\n",
       "   Over18_Y  OverTime_No  OverTime_Yes  \n",
       "0         1            0             1  \n",
       "1         1            1             0  \n",
       "\n",
       "[2 rows x 50 columns]"
      ]
     },
     "execution_count": 13,
     "metadata": {},
     "output_type": "execute_result"
    }
   ],
   "source": [
    "final_data.head(2)"
   ]
  },
  {
   "cell_type": "markdown",
   "metadata": {},
   "source": [
    "***Feature Selection and Engineering***\n"
   ]
  },
  {
   "cell_type": "markdown",
   "metadata": {},
   "source": [
    "\n",
    "\n",
    "We can remove some of the below features from our data as they do not provide any predictive value for our model. <br>\n",
    "\n",
    "EmployeeCount = Variable that just counts employees, No predictive Value<br>\n",
    "EmployeeNumber = Unique ID for employee, No Predictive Value <br>\n",
    "StandardHours = All were 80, No Predictive Value\n",
    "\n",
    "\n"
   ]
  },
  {
   "cell_type": "code",
   "execution_count": 14,
   "metadata": {},
   "outputs": [],
   "source": [
    "final_data = final_data.drop(['EmployeeCount', 'EmployeeNumber', 'StandardHours'], axis=1)"
   ]
  },
  {
   "cell_type": "code",
   "execution_count": null,
   "metadata": {},
   "outputs": [],
   "source": []
  },
  {
   "cell_type": "markdown",
   "metadata": {},
   "source": [
    "***Model building***\n",
    "\n",
    "We will try a few classification techniques as well as an artificial neural network. "
   ]
  },
  {
   "cell_type": "code",
   "execution_count": 15,
   "metadata": {},
   "outputs": [
    {
     "name": "stderr",
     "output_type": "stream",
     "text": [
      "z:\\ms\\anaconda\\envs\\tensorflow\\lib\\site-packages\\sklearn\\cross_validation.py:41: DeprecationWarning: This module was deprecated in version 0.18 in favor of the model_selection module into which all the refactored classes and functions are moved. Also note that the interface of the new CV iterators are different from that of this module. This module will be removed in 0.20.\n",
      "  \"This module will be removed in 0.20.\", DeprecationWarning)\n"
     ]
    }
   ],
   "source": [
    "# Import of necessary modules\n",
    "\n",
    "from sklearn.cross_validation import train_test_split\n",
    "from sklearn.ensemble import RandomForestClassifier\n",
    "from sklearn.tree import DecisionTreeClassifier\n",
    "from sklearn.linear_model import LogisticRegression\n",
    "from sklearn.svm import SVC\n",
    "from sklearn.metrics import classification_report, confusion_matrix\n",
    "from sklearn.metrics import accuracy_score"
   ]
  },
  {
   "cell_type": "code",
   "execution_count": 68,
   "metadata": {},
   "outputs": [],
   "source": [
    "# Split the data into training data and testing data\n",
    "\n",
    "x = final_data.drop('Attrition', axis=1) # Features\n",
    "y = final_data['Attrition'] # Target variable\n",
    "\n",
    "x_train, x_test, y_train, y_test = train_test_split(x,y, test_size=0.3, random_state=42)\n",
    "\n"
   ]
  },
  {
   "cell_type": "code",
   "execution_count": 69,
   "metadata": {},
   "outputs": [],
   "source": [
    "# Lets call our classifiers\n",
    "\n",
    "rf_model = RandomForestClassifier()\n",
    "log_model = LogisticRegression()\n",
    "dec_model = DecisionTreeClassifier()\n",
    "svc_model = SVC()\n"
   ]
  },
  {
   "cell_type": "code",
   "execution_count": 70,
   "metadata": {},
   "outputs": [],
   "source": [
    "models = ['Random Forest Classifier', 'Logistic Regression Classifier', 'Decision Tree Classifier', 'Support Vector Classifier']\n",
    "classifiers = [rf_model, log_model, dec_model, svc_model]\n",
    "model_acc = []"
   ]
  },
  {
   "cell_type": "code",
   "execution_count": 95,
   "metadata": {},
   "outputs": [
    {
     "name": "stdout",
     "output_type": "stream",
     "text": [
      "Accuracy of Random Forest Classifier : 0.8775510204081632\n",
      "Accuracy of Logistic Regression Classifier : 0.8707482993197279\n",
      "Accuracy of Decision Tree Classifier : 0.8095238095238095\n",
      "Accuracy of Support Vector Classifier : 0.8616780045351474\n"
     ]
    }
   ],
   "source": [
    "# Lets build our models on our training data\n",
    "\n",
    "for classifier in classifiers:\n",
    "    classifier.fit(x_train, y_train)\n",
    "    pred = classifier.predict(x_test)\n",
    "    acc = accuracy_score(y_test, pred)\n",
    "    model_acc.append(acc)\n",
    "\n",
    "    \n",
    "for i,j in zip(models, model_acc):\n",
    "    print('Accuracy of {} : {}'.format(i,j))"
   ]
  },
  {
   "cell_type": "markdown",
   "metadata": {},
   "source": [
    "***Cross Validation***\n",
    "\n",
    "Cross-validation is a technique to evaluate predictive models by partitioning the original sample into a training set to train the model, and a test set to evaluate it. In k-fold cross-validation, the original sample is randomly partitioned into k equal size subsamples. The goal of cross-validation is to estimate the expected level of fit of a model to a data set that is independent of the data that were used to train the model."
   ]
  },
  {
   "cell_type": "code",
   "execution_count": 96,
   "metadata": {},
   "outputs": [],
   "source": [
    "from sklearn.cross_validation import cross_val_score"
   ]
  },
  {
   "cell_type": "code",
   "execution_count": 97,
   "metadata": {},
   "outputs": [
    {
     "name": "stdout",
     "output_type": "stream",
     "text": [
      "Random Forest Classifier : 0.8572253584032568\n",
      "Logistic Regression Classifier : 0.8659639546632695\n",
      "Decision Tree Classifier : 0.765721419262253\n",
      "Support Vector Classifier : 0.8289830719442369\n"
     ]
    }
   ],
   "source": [
    "for i,j in zip(models, classifiers):\n",
    "    a = cross_val_score(estimator = j, X=x_train, y=y_train, cv=10)\n",
    "    print('{} : {}'.format(i, a.mean()))"
   ]
  },
  {
   "cell_type": "code",
   "execution_count": 98,
   "metadata": {},
   "outputs": [],
   "source": [
    "# Let us try to perform some parameter tuning and see if we can better the accuracy of our best performing classifier\n",
    "\n",
    "from sklearn.model_selection import GridSearchCV"
   ]
  },
  {
   "cell_type": "code",
   "execution_count": 99,
   "metadata": {},
   "outputs": [],
   "source": [
    "penalty = ['l1', 'l2']\n",
    "\n",
    "C = [0.1,1,10,100,1000]\n",
    "\n",
    "params = {'C':C, 'penalty':penalty}"
   ]
  },
  {
   "cell_type": "code",
   "execution_count": 100,
   "metadata": {},
   "outputs": [],
   "source": [
    "grid_clf = GridSearchCV(estimator=log_model, param_grid=params, scoring='accuracy', cv=10)\n"
   ]
  },
  {
   "cell_type": "code",
   "execution_count": 101,
   "metadata": {},
   "outputs": [
    {
     "data": {
      "text/plain": [
       "GridSearchCV(cv=10, error_score='raise',\n",
       "       estimator=LogisticRegression(C=1.0, class_weight=None, dual=False, fit_intercept=True,\n",
       "          intercept_scaling=1, max_iter=100, multi_class='ovr', n_jobs=1,\n",
       "          penalty='l2', random_state=None, solver='liblinear', tol=0.0001,\n",
       "          verbose=0, warm_start=False),\n",
       "       fit_params=None, iid=True, n_jobs=1,\n",
       "       param_grid={'C': [0.1, 1, 10, 100, 1000], 'penalty': ['l1', 'l2']},\n",
       "       pre_dispatch='2*n_jobs', refit=True, return_train_score='warn',\n",
       "       scoring='accuracy', verbose=0)"
      ]
     },
     "execution_count": 101,
     "metadata": {},
     "output_type": "execute_result"
    }
   ],
   "source": [
    "grid_clf.fit(x_train, y_train)"
   ]
  },
  {
   "cell_type": "code",
   "execution_count": 102,
   "metadata": {},
   "outputs": [
    {
     "name": "stdout",
     "output_type": "stream",
     "text": [
      "Best parameters :  {'C': 10, 'penalty': 'l2'}\n",
      "Best Score:  0.8736637512147716\n"
     ]
    }
   ],
   "source": [
    "print('Best parameters : ',grid_clf.best_params_)\n",
    "print('Best Score: ',grid_clf.best_score_)"
   ]
  },
  {
   "cell_type": "code",
   "execution_count": 103,
   "metadata": {},
   "outputs": [],
   "source": [
    "p = grid_clf.predict(x_test)"
   ]
  },
  {
   "cell_type": "code",
   "execution_count": 104,
   "metadata": {},
   "outputs": [
    {
     "name": "stdout",
     "output_type": "stream",
     "text": [
      "[[365  15]\n",
      " [ 49  12]]\n"
     ]
    }
   ],
   "source": [
    "print(confusion_matrix(y_test, p))"
   ]
  },
  {
   "cell_type": "code",
   "execution_count": 105,
   "metadata": {},
   "outputs": [
    {
     "name": "stdout",
     "output_type": "stream",
     "text": [
      "0.854875283446712\n"
     ]
    }
   ],
   "source": [
    "print(accuracy_score(y_test, p))"
   ]
  },
  {
   "cell_type": "markdown",
   "metadata": {},
   "source": [
    "Looks like our Logistic Regression classifier is performing consistently on unseen data as well. "
   ]
  },
  {
   "cell_type": "markdown",
   "metadata": {},
   "source": [
    "***Artificial Neural Network using Keras***\n",
    "\n",
    "Lets us try to implement a Artificial neural network using keras and see if our accuracy scores can increase. \n",
    "\n",
    "We will be using Keras, a high-level neural networks API, written in Python and capable of running on top of TensorFlow, CNTK, or Theano. It was developed with a focus on enabling fast experimentation. Keras is a well-designed API that allows you use to build deep learning models by clipping together high-level building blocks."
   ]
  },
  {
   "cell_type": "code",
   "execution_count": 89,
   "metadata": {},
   "outputs": [],
   "source": [
    "# Our data needs to be normalized in order to input it to our neural network. \n",
    "\n",
    "from sklearn.preprocessing import StandardScaler\n",
    "sc = StandardScaler()\n",
    "X_train = sc.fit_transform(x_train)\n",
    "X_test = sc.transform(x_test)\n"
   ]
  },
  {
   "cell_type": "code",
   "execution_count": 90,
   "metadata": {},
   "outputs": [
    {
     "data": {
      "text/plain": [
       "(1470, 44)"
      ]
     },
     "execution_count": 90,
     "metadata": {},
     "output_type": "execute_result"
    }
   ],
   "source": [
    "final_data.shape"
   ]
  },
  {
   "cell_type": "code",
   "execution_count": 84,
   "metadata": {},
   "outputs": [],
   "source": [
    "#final_data = final_data.drop(['Gender_Female', 'MaritalStatus_Divorced'], axis=1)"
   ]
  },
  {
   "cell_type": "code",
   "execution_count": 91,
   "metadata": {},
   "outputs": [
    {
     "name": "stdout",
     "output_type": "stream",
     "text": [
      "Epoch 1/100\n",
      "1029/1029 [==============================] - 3s 3ms/step - loss: 0.6110 - acc: 0.8124\n",
      "Epoch 2/100\n",
      "1029/1029 [==============================] - 1s 622us/step - loss: 0.3909 - acc: 0.8358\n",
      "Epoch 3/100\n",
      "1029/1029 [==============================] - 1s 592us/step - loss: 0.3529 - acc: 0.8610\n",
      "Epoch 4/100\n",
      "1029/1029 [==============================] - 1s 625us/step - loss: 0.3390 - acc: 0.8698\n",
      "Epoch 5/100\n",
      "1029/1029 [==============================] - 1s 608us/step - loss: 0.3207 - acc: 0.8756\n",
      "Epoch 6/100\n",
      "1029/1029 [==============================] - 1s 545us/step - loss: 0.3224 - acc: 0.8776\n",
      "Epoch 7/100\n",
      "1029/1029 [==============================] - 1s 606us/step - loss: 0.3093 - acc: 0.8873\n",
      "Epoch 8/100\n",
      "1029/1029 [==============================] - 1s 592us/step - loss: 0.3118 - acc: 0.8766\n",
      "Epoch 9/100\n",
      "1029/1029 [==============================] - 1s 614us/step - loss: 0.3015 - acc: 0.8892\n",
      "Epoch 10/100\n",
      "1029/1029 [==============================] - 1s 592us/step - loss: 0.3041 - acc: 0.8834\n",
      "Epoch 11/100\n",
      "1029/1029 [==============================] - 1s 625us/step - loss: 0.2940 - acc: 0.8950\n",
      "Epoch 12/100\n",
      "1029/1029 [==============================] - 1s 605us/step - loss: 0.2944 - acc: 0.8941\n",
      "Epoch 13/100\n",
      "1029/1029 [==============================] - ETA: 0s - loss: 0.2896 - acc: 0.898 - 1s 592us/step - loss: 0.2878 - acc: 0.8980\n",
      "Epoch 14/100\n",
      "1029/1029 [==============================] - 1s 546us/step - loss: 0.2926 - acc: 0.8863\n",
      "Epoch 15/100\n",
      "1029/1029 [==============================] - 1s 590us/step - loss: 0.2894 - acc: 0.8921\n",
      "Epoch 16/100\n",
      "1029/1029 [==============================] - 1s 544us/step - loss: 0.2869 - acc: 0.8941\n",
      "Epoch 17/100\n",
      "1029/1029 [==============================] - 1s 612us/step - loss: 0.2859 - acc: 0.8931\n",
      "Epoch 18/100\n",
      "1029/1029 [==============================] - 1s 599us/step - loss: 0.2892 - acc: 0.8853\n",
      "Epoch 19/100\n",
      "1029/1029 [==============================] - 1s 599us/step - loss: 0.2842 - acc: 0.8912\n",
      "Epoch 20/100\n",
      "1029/1029 [==============================] - 1s 625us/step - loss: 0.2828 - acc: 0.8960\n",
      "Epoch 21/100\n",
      "1029/1029 [==============================] - 1s 593us/step - loss: 0.2805 - acc: 0.8941\n",
      "Epoch 22/100\n",
      "1029/1029 [==============================] - 1s 572us/step - loss: 0.2848 - acc: 0.8989\n",
      "Epoch 23/100\n",
      "1029/1029 [==============================] - 1s 561us/step - loss: 0.2821 - acc: 0.8999\n",
      "Epoch 24/100\n",
      "1029/1029 [==============================] - 0s 380us/step - loss: 0.2775 - acc: 0.8950\n",
      "Epoch 25/100\n",
      "1029/1029 [==============================] - 0s 319us/step - loss: 0.2731 - acc: 0.8980\n",
      "Epoch 26/100\n",
      "1029/1029 [==============================] - 0s 321us/step - loss: 0.2808 - acc: 0.8950\n",
      "Epoch 27/100\n",
      "1029/1029 [==============================] - 0s 310us/step - loss: 0.2739 - acc: 0.8950\n",
      "Epoch 28/100\n",
      "1029/1029 [==============================] - 0s 291us/step - loss: 0.2751 - acc: 0.8921\n",
      "Epoch 29/100\n",
      "1029/1029 [==============================] - 0s 298us/step - loss: 0.2751 - acc: 0.8980\n",
      "Epoch 30/100\n",
      "1029/1029 [==============================] - 0s 315us/step - loss: 0.2730 - acc: 0.8931\n",
      "Epoch 31/100\n",
      "1029/1029 [==============================] - 0s 315us/step - loss: 0.2740 - acc: 0.8941\n",
      "Epoch 32/100\n",
      "1029/1029 [==============================] - 0s 300us/step - loss: 0.2739 - acc: 0.8902\n",
      "Epoch 33/100\n",
      "1029/1029 [==============================] - 0s 297us/step - loss: 0.2686 - acc: 0.8999\n",
      "Epoch 34/100\n",
      "1029/1029 [==============================] - 0s 298us/step - loss: 0.2707 - acc: 0.8921\n",
      "Epoch 35/100\n",
      "1029/1029 [==============================] - 0s 311us/step - loss: 0.2652 - acc: 0.8980\n",
      "Epoch 36/100\n",
      "1029/1029 [==============================] - 0s 327us/step - loss: 0.2677 - acc: 0.8980\n",
      "Epoch 37/100\n",
      "1029/1029 [==============================] - 0s 319us/step - loss: 0.2700 - acc: 0.8931\n",
      "Epoch 38/100\n",
      "1029/1029 [==============================] - 0s 302us/step - loss: 0.2644 - acc: 0.8931\n",
      "Epoch 39/100\n",
      "1029/1029 [==============================] - 0s 309us/step - loss: 0.2692 - acc: 0.8980\n",
      "Epoch 40/100\n",
      "1029/1029 [==============================] - 0s 307us/step - loss: 0.2623 - acc: 0.8941\n",
      "Epoch 41/100\n",
      "1029/1029 [==============================] - 0s 298us/step - loss: 0.2704 - acc: 0.8902\n",
      "Epoch 42/100\n",
      "1029/1029 [==============================] - 0s 314us/step - loss: 0.2616 - acc: 0.8989\n",
      "Epoch 43/100\n",
      "1029/1029 [==============================] - 0s 329us/step - loss: 0.2622 - acc: 0.8970\n",
      "Epoch 44/100\n",
      "1029/1029 [==============================] - 0s 310us/step - loss: 0.2545 - acc: 0.8999\n",
      "Epoch 45/100\n",
      "1029/1029 [==============================] - 0s 310us/step - loss: 0.2575 - acc: 0.9009\n",
      "Epoch 46/100\n",
      "1029/1029 [==============================] - 0s 302us/step - loss: 0.2581 - acc: 0.8970\n",
      "Epoch 47/100\n",
      "1029/1029 [==============================] - 0s 306us/step - loss: 0.2586 - acc: 0.9077\n",
      "Epoch 48/100\n",
      "1029/1029 [==============================] - 0s 300us/step - loss: 0.2579 - acc: 0.8980\n",
      "Epoch 49/100\n",
      "1029/1029 [==============================] - 0s 302us/step - loss: 0.2488 - acc: 0.9038\n",
      "Epoch 50/100\n",
      "1029/1029 [==============================] - 0s 304us/step - loss: 0.2538 - acc: 0.8999\n",
      "Epoch 51/100\n",
      "1029/1029 [==============================] - 0s 293us/step - loss: 0.2563 - acc: 0.8999\n",
      "Epoch 52/100\n",
      "1029/1029 [==============================] - 0s 291us/step - loss: 0.2506 - acc: 0.9009\n",
      "Epoch 53/100\n",
      "1029/1029 [==============================] - 0s 321us/step - loss: 0.2502 - acc: 0.8931\n",
      "Epoch 54/100\n",
      "1029/1029 [==============================] - 0s 309us/step - loss: 0.2448 - acc: 0.8989\n",
      "Epoch 55/100\n",
      "1029/1029 [==============================] - 0s 293us/step - loss: 0.2547 - acc: 0.9018\n",
      "Epoch 56/100\n",
      "1029/1029 [==============================] - 0s 300us/step - loss: 0.2441 - acc: 0.8980\n",
      "Epoch 57/100\n",
      "1029/1029 [==============================] - 0s 298us/step - loss: 0.2463 - acc: 0.9018\n",
      "Epoch 58/100\n",
      "1029/1029 [==============================] - 0s 335us/step - loss: 0.2467 - acc: 0.9067\n",
      "Epoch 59/100\n",
      "1029/1029 [==============================] - 0s 325us/step - loss: 0.2392 - acc: 0.9028\n",
      "Epoch 60/100\n",
      "1029/1029 [==============================] - 0s 345us/step - loss: 0.2405 - acc: 0.9038\n",
      "Epoch 61/100\n",
      "1029/1029 [==============================] - 0s 322us/step - loss: 0.2429 - acc: 0.9038\n",
      "Epoch 62/100\n",
      "1029/1029 [==============================] - 0s 310us/step - loss: 0.2470 - acc: 0.9028\n",
      "Epoch 63/100\n",
      "1029/1029 [==============================] - 0s 310us/step - loss: 0.2390 - acc: 0.9028\n",
      "Epoch 64/100\n",
      "1029/1029 [==============================] - 0s 312us/step - loss: 0.2433 - acc: 0.9018\n",
      "Epoch 65/100\n",
      "1029/1029 [==============================] - 0s 295us/step - loss: 0.2386 - acc: 0.9048\n",
      "Epoch 66/100\n",
      "1029/1029 [==============================] - 0s 297us/step - loss: 0.2316 - acc: 0.9086\n",
      "Epoch 67/100\n",
      "1029/1029 [==============================] - 0s 307us/step - loss: 0.2366 - acc: 0.9009\n",
      "Epoch 68/100\n",
      "1029/1029 [==============================] - 0s 312us/step - loss: 0.2408 - acc: 0.9057\n",
      "Epoch 69/100\n",
      "1029/1029 [==============================] - 0s 316us/step - loss: 0.2427 - acc: 0.8989\n",
      "Epoch 70/100\n",
      "1029/1029 [==============================] - 0s 298us/step - loss: 0.2271 - acc: 0.9048\n",
      "Epoch 71/100\n",
      "1029/1029 [==============================] - 0s 315us/step - loss: 0.2396 - acc: 0.9048\n",
      "Epoch 72/100\n",
      "1029/1029 [==============================] - 0s 298us/step - loss: 0.2352 - acc: 0.9067\n",
      "Epoch 73/100\n",
      "1029/1029 [==============================] - 0s 302us/step - loss: 0.2416 - acc: 0.8950\n",
      "Epoch 74/100\n",
      "1029/1029 [==============================] - 0s 306us/step - loss: 0.2373 - acc: 0.8999\n",
      "Epoch 75/100\n",
      "1029/1029 [==============================] - 0s 300us/step - loss: 0.2326 - acc: 0.9116\n",
      "Epoch 76/100\n",
      "1029/1029 [==============================] - 0s 307us/step - loss: 0.2219 - acc: 0.9057\n",
      "Epoch 77/100\n",
      "1029/1029 [==============================] - 0s 306us/step - loss: 0.2262 - acc: 0.9057\n",
      "Epoch 78/100\n",
      "1029/1029 [==============================] - 0s 293us/step - loss: 0.2261 - acc: 0.9086\n",
      "Epoch 79/100\n",
      "1029/1029 [==============================] - 0s 302us/step - loss: 0.2233 - acc: 0.9096\n",
      "Epoch 80/100\n",
      "1029/1029 [==============================] - 0s 297us/step - loss: 0.2356 - acc: 0.8950\n",
      "Epoch 81/100\n"
     ]
    },
    {
     "name": "stdout",
     "output_type": "stream",
     "text": [
      "1029/1029 [==============================] - 0s 313us/step - loss: 0.2255 - acc: 0.9057\n",
      "Epoch 82/100\n",
      "1029/1029 [==============================] - 0s 319us/step - loss: 0.2282 - acc: 0.9067\n",
      "Epoch 83/100\n",
      "1029/1029 [==============================] - 0s 334us/step - loss: 0.2274 - acc: 0.9077\n",
      "Epoch 84/100\n",
      "1029/1029 [==============================] - 0s 327us/step - loss: 0.2221 - acc: 0.9125\n",
      "Epoch 85/100\n",
      "1029/1029 [==============================] - 0s 318us/step - loss: 0.2177 - acc: 0.9028\n",
      "Epoch 86/100\n",
      "1029/1029 [==============================] - 0s 328us/step - loss: 0.2213 - acc: 0.9048\n",
      "Epoch 87/100\n",
      "1029/1029 [==============================] - 0s 317us/step - loss: 0.2149 - acc: 0.9086\n",
      "Epoch 88/100\n",
      "1029/1029 [==============================] - 0s 333us/step - loss: 0.2179 - acc: 0.9096\n",
      "Epoch 89/100\n",
      "1029/1029 [==============================] - 0s 343us/step - loss: 0.2234 - acc: 0.9057\n",
      "Epoch 90/100\n",
      "1029/1029 [==============================] - 0s 327us/step - loss: 0.2155 - acc: 0.9116\n",
      "Epoch 91/100\n",
      "1029/1029 [==============================] - 0s 323us/step - loss: 0.2168 - acc: 0.9077\n",
      "Epoch 92/100\n",
      "1029/1029 [==============================] - 0s 336us/step - loss: 0.2162 - acc: 0.9038\n",
      "Epoch 93/100\n",
      "1029/1029 [==============================] - 0s 326us/step - loss: 0.2205 - acc: 0.9135\n",
      "Epoch 94/100\n",
      "1029/1029 [==============================] - 0s 332us/step - loss: 0.2167 - acc: 0.9028\n",
      "Epoch 95/100\n",
      "1029/1029 [==============================] - 0s 327us/step - loss: 0.2075 - acc: 0.9116\n",
      "Epoch 96/100\n",
      "1029/1029 [==============================] - 0s 329us/step - loss: 0.2228 - acc: 0.9067\n",
      "Epoch 97/100\n",
      "1029/1029 [==============================] - 0s 331us/step - loss: 0.2147 - acc: 0.9057\n",
      "Epoch 98/100\n",
      "1029/1029 [==============================] - 0s 329us/step - loss: 0.2249 - acc: 0.9048\n",
      "Epoch 99/100\n",
      "1029/1029 [==============================] - 0s 307us/step - loss: 0.2096 - acc: 0.9096\n",
      "Epoch 100/100\n",
      "1029/1029 [==============================] - 0s 291us/step - loss: 0.2080 - acc: 0.9125\n"
     ]
    },
    {
     "data": {
      "text/plain": [
       "<keras.callbacks.History at 0x1f6c7674278>"
      ]
     },
     "execution_count": 91,
     "metadata": {},
     "output_type": "execute_result"
    }
   ],
   "source": [
    "# We will build our neural network consisting of 2 hidden layers of 22 neurons each. \n",
    "\n",
    "# Building the ANN\n",
    "from keras.wrappers.scikit_learn import KerasClassifier\n",
    "#from sklearn.model_selection import GridSearchCV\n",
    "from keras.models import Sequential\n",
    "from keras.layers import Dense\n",
    "from keras.layers import Dropout\n",
    "\n",
    "classifier = Sequential()\n",
    "classifier.add(Dense(units = 22, kernel_initializer = 'normal', activation = 'linear', input_dim = 43))\n",
    "classifier.add(Dropout(p = 0.1))\n",
    "classifier.add(Dense(units = 22, kernel_initializer = 'normal', activation = 'relu'))\n",
    "classifier.add(Dropout(p = 0.1))\n",
    "classifier.add(Dense(units = 1, kernel_initializer = 'normal', activation = 'sigmoid'))\n",
    "classifier.compile(optimizer = 'adam', loss = 'binary_crossentropy', metrics = ['accuracy'])\n",
    "classifier.fit(X_train, y_train, batch_size = 10, epochs = 100)\n"
   ]
  },
  {
   "cell_type": "code",
   "execution_count": 92,
   "metadata": {},
   "outputs": [],
   "source": [
    "y_pred = classifier.predict(X_test)\n",
    "y_pred = (y_pred > 0.5)\n"
   ]
  },
  {
   "cell_type": "code",
   "execution_count": 93,
   "metadata": {},
   "outputs": [
    {
     "name": "stdout",
     "output_type": "stream",
     "text": [
      "[[363  17]\n",
      " [ 39  22]]\n"
     ]
    }
   ],
   "source": [
    "print(confusion_matrix(y_test, y_pred))"
   ]
  },
  {
   "cell_type": "code",
   "execution_count": 94,
   "metadata": {},
   "outputs": [
    {
     "name": "stdout",
     "output_type": "stream",
     "text": [
      "0.873015873015873\n"
     ]
    }
   ],
   "source": [
    "print(accuracy_score(y_test,y_pred))"
   ]
  },
  {
   "cell_type": "code",
   "execution_count": null,
   "metadata": {},
   "outputs": [],
   "source": []
  }
 ],
 "metadata": {
  "kernelspec": {
   "display_name": "Python 3",
   "language": "python",
   "name": "python3"
  },
  "language_info": {
   "codemirror_mode": {
    "name": "ipython",
    "version": 3
   },
   "file_extension": ".py",
   "mimetype": "text/x-python",
   "name": "python",
   "nbconvert_exporter": "python",
   "pygments_lexer": "ipython3",
   "version": "3.6.4"
  }
 },
 "nbformat": 4,
 "nbformat_minor": 2
}
